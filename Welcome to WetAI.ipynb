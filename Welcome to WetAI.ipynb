{
 "cells": [
  {
   "cell_type": "markdown",
   "metadata": {},
   "source": [
    "<font size=7 color=\"DimGrey\">Welcome to <font color=\"blue\" face=\"palatino\"><i>wet<b>AI</b>.</i>io"
   ]
  },
  {
   "cell_type": "markdown",
   "metadata": {},
   "source": [
    "<font color=\"blue\">wetAI</font> is an online platform for doing..."
   ]
  },
  {
   "cell_type": "code",
   "execution_count": null,
   "metadata": {},
   "outputs": [],
   "source": [
    "from IPython.core.display import HTML\n",
    "import os\n",
    "import ipywidgets as ipw\n",
    "print(\"Tutorial video goes here\")\n",
    "#HTML(\"\"\"<h2 class='text-center text-danger'>Tutorial coming Soon</h2><div class=\"row\"><div class=\"col-xs-12 col-md-offset-3 col-md-6\"><div class=\"embed-responsive embed-responsive-16by9\"><iframe class=\"embed-responsive-item\"src='https://www.youtube.com/embed/pwBs4J4xDOw'></iframe></div></div></div>\"\"\")\n"
   ]
  },
  {
   "cell_type": "markdown",
   "metadata": {},
   "source": [
    "# <font color=\"blue\">Set Up wetAI "
   ]
  },
  {
   "cell_type": "markdown",
   "metadata": {},
   "source": [
    "## <font color=\"limeGreen\">Github Sign In</font>"
   ]
  },
  {
   "cell_type": "markdown",
   "metadata": {},
   "source": [
    " You must have a <font color=\"limeGreen\">Github</font> account to use <font color=\"blue\">wetAI</font>. You can [create an account here](https://github.com/).\n",
    "\n",
    "<font color=\"limeGreen\">Github</font> is a popular tool which allows scientists to save/share code on the cloud. However, <font color=\"limeGreen\">Github</font> can be confusing to use... even for programmers! <font color=\"blue\">wetAI</font> makes using <font color=\"limeGreen\">Github</font> simple. To use <font color=\"blue\">wetAI</font> you need to sign in to <font color=\"limeGreen\">Github</font>."
   ]
  },
  {
   "cell_type": "code",
   "execution_count": null,
   "metadata": {},
   "outputs": [],
   "source": [
    "%run \"Apps/braingeneers/Agora/Code/Source Code.ipynb\""
   ]
  },
  {
   "cell_type": "code",
   "execution_count": null,
   "metadata": {
    "cell_style": "split"
   },
   "outputs": [],
   "source": [
    "display(HTML(\"<hr style=margin:0>\"))\n",
    "Git.b.signIn"
   ]
  },
  {
   "cell_type": "markdown",
   "metadata": {},
   "source": [
    "## <font color=\"orange\">AWS S3 Credentials"
   ]
  },
  {
   "cell_type": "markdown",
   "metadata": {},
   "source": [
    "<font color=\"blue\">wetAI</font> uses <font color=\"orange\">AWS</font> to store large datasets in the cloud. [AWS](https://aws.amazon.com/what-is-aws/?nc2=h_ql_le_int) is the world most popular cloud computing platform. [S3](https://docs.aws.amazon.com/AmazonS3/latest/gsg/GetStartedWithS3.html) is AWS's simplest way store data in the cloud.\n",
    "\n",
    "User the text box below to set your S3 credentials. If you are in David Haussler's lab contact David Parks to find what you S3 credentials are.\n"
   ]
  },
  {
   "cell_type": "code",
   "execution_count": null,
   "metadata": {},
   "outputs": [],
   "source": [
    "w_creds_text = ipw.Textarea( layout=Layout(width='97%', height='250px') )\n",
    "w_creds_text"
   ]
  },
  {
   "cell_type": "code",
   "execution_count": null,
   "metadata": {},
   "outputs": [],
   "source": [
    "w_creds_btn = Button(description=\"Set\", button_style='Primary', layout= Layout(justify_content=\"center\"))\n",
    "w_creds_done = Valid(True, layout=Layout(visibility=\"hidden\") )\n",
    "ipw.HBox( [HBox([w_creds_btn, w_creds_done])], layout=Layout(display='flex', flex_flow='column', align_items='center') )"
   ]
  },
  {
   "cell_type": "code",
   "execution_count": null,
   "metadata": {},
   "outputs": [],
   "source": [
    "def setCredentials(b):\n",
    "        !echo \"{w_creds_text.value}\" > ~/.aws/credentials\n",
    "        w_creds_done.layout.visibility = \"visible\" \n",
    "w_creds_btn.on_click( setCredentials )"
   ]
  },
  {
   "cell_type": "markdown",
   "metadata": {},
   "source": [
    "# <font color=\"DimGrey\"> Utilities"
   ]
  },
  {
   "cell_type": "markdown",
   "metadata": {},
   "source": [
    "Below is a are some tools that are useful when working on notebooks in <font color=\"blue\">WetAI</font>"
   ]
  },
  {
   "cell_type": "markdown",
   "metadata": {},
   "source": [
    "# <font color=\"green\">Terra Data"
   ]
  },
  {
   "cell_type": "markdown",
   "metadata": {},
   "source": [
    "<font color=\"green\">Terra</font> provides a secure place to easily store sensitive data. Te tool below lets you store your files and data from <font color=\"blue\">WetAI</font> in <font color=\"green\">Terra</font>. Type the path to the folder or file you want to save below. Note, you can also save data in the Jupyter terminal, using [this command](https://support.terra.bio/hc/en-us/articles/360026639112-Copying-notebook-output-to-a-Google-bucket)."
   ]
  },
  {
   "cell_type": "code",
   "execution_count": null,
   "metadata": {},
   "outputs": [],
   "source": [
    "path_txt = ipw.Text(description=\"Path\")\n",
    "save_btn = ipw.Button( description=\"Save\", button_style=\"success\", layout=ipw.Layout(width='auto'))\n",
    "ipw.HBox([path_txt,save_btn])"
   ]
  },
  {
   "cell_type": "code",
   "execution_count": null,
   "metadata": {},
   "outputs": [],
   "source": [
    "def saveData(b):\n",
    "    os.environ['SAVE_DIR']=path_txt.value\n",
    "    !gsutil cp -r $SAVE_DIR $WORKSPACE_BUCKET\n",
    "save_btn.on_click(saveData)"
   ]
  },
  {
   "cell_type": "markdown",
   "metadata": {},
   "source": [
    "## <font color=\"DimGrey\"> NB Extensions"
   ]
  },
  {
   "cell_type": "markdown",
   "metadata": {},
   "source": [
    "[Click here](/tree#nbextensions_configurator) to customize your coding environment using nb extensions. Watch the tutorials below to see how. "
   ]
  },
  {
   "cell_type": "code",
   "execution_count": null,
   "metadata": {},
   "outputs": [],
   "source": [
    "HTML(\"\"\"<div class=\"row\"><div class=\"col-xs-12 col-md-6\"><div class=\"embed-responsive embed-responsive-16by9\"><iframe class=\"embed-responsive-item\"src='https://www.youtube.com/embed/aKopXxFYy7w'></iframe></div></div><div class=\"col-xs-12 col-md-6\"><div class=\"embed-responsive embed-responsive-16by9\"><iframe class=\"embed-responsive-item\"src='https://www.youtube.com/embed/N56I0TRnRX0'></iframe></div></div></div>\"\"\")\n",
    "\n"
   ]
  },
  {
   "cell_type": "markdown",
   "metadata": {},
   "source": [
    "## <font color=\"DimGrey\">NB Stripout</font> <font color=\"red\">Not Done"
   ]
  },
  {
   "cell_type": "markdown",
   "metadata": {},
   "source": [
    "When you run notebooks in <font color=\"blue\">WetAI</font> you will often display grapshs and user interfaces. Displaying these features takes up memory inside of the notebook. The <button type=\"button\" class=\"btn btn-danger\"><i class=\"fa fa-bolt\"></i></button> button removes some of these features, but there is `metadata` that builds up over time. This can make the file very large. \n",
    "\n",
    "<font color=\"blue\">NB Stripout</font> cleans your file by removing metadata. Type the path to your file below and click clean to run NB Stripout on you notebook."
   ]
  },
  {
   "cell_type": "code",
   "execution_count": null,
   "metadata": {},
   "outputs": [],
   "source": [
    "w_clean_text = ipw.Text(placeholder='~/Welcome to WetAI  .ipynb', layout= Layout(width='60%') )\n",
    "w_clean_btn = Button(description=\"Clean\", button_style='Success', layout= Layout(width='auto') )\n",
    "w_clean_done = Valid(True, layout=Layout(visibility=\"hidden\") )\n",
    "HBox([ w_clean_text, w_clean_btn, w_clean_done ])"
   ]
  },
  {
   "cell_type": "code",
   "execution_count": null,
   "metadata": {},
   "outputs": [],
   "source": [
    "def cleanNotebook(b):\n",
    "        !echo \"{w_creds_text.value}\" > ~/.aws/credentials\n",
    "        w_creds_done.layout.visibility = \"visible\" \n",
    "w_clean_btn.on_click( cleanNotebook )\n",
    "\n",
    "\n",
    "\n"
   ]
  },
  {
   "cell_type": "code",
   "execution_count": null,
   "metadata": {},
   "outputs": [],
   "source": [
    "#Welcome to Agora .ipynb\n",
    "w_clean_text.value.replace(\" \",\"\\\")"
   ]
  },
  {
   "cell_type": "code",
   "execution_count": null,
   "metadata": {},
   "outputs": [],
   "source": [
    "Welcome to Agora .ipynb"
   ]
  }
 ],
 "metadata": {
  "hide_input": false,
  "kernelspec": {
   "display_name": "Python 3",
   "language": "python",
   "name": "python3"
  },
  "language_info": {
   "codemirror_mode": {
    "name": "ipython",
    "version": 3
   },
   "file_extension": ".py",
   "mimetype": "text/x-python",
   "name": "python",
   "nbconvert_exporter": "python",
   "pygments_lexer": "ipython3",
   "version": "3.8.8"
  },
  "toc": {
   "base_numbering": 1,
   "nav_menu": {},
   "number_sections": true,
   "sideBar": true,
   "skip_h1_title": false,
   "title_cell": "Table of Contents",
   "title_sidebar": "Contents",
   "toc_cell": false,
   "toc_position": {},
   "toc_section_display": true,
   "toc_window_display": false
  },
  "varInspector": {
   "cols": {
    "lenName": 16,
    "lenType": 16,
    "lenVar": 40
   },
   "kernels_config": {
    "python": {
     "delete_cmd_postfix": "",
     "delete_cmd_prefix": "del ",
     "library": "var_list.py",
     "varRefreshCmd": "print(var_dic_list())"
    },
    "r": {
     "delete_cmd_postfix": ") ",
     "delete_cmd_prefix": "rm(",
     "library": "var_list.r",
     "varRefreshCmd": "cat(var_dic_list()) "
    }
   },
   "types_to_exclude": [
    "module",
    "function",
    "builtin_function_or_method",
    "instance",
    "_Feature"
   ],
   "window_display": false
  }
 },
 "nbformat": 4,
 "nbformat_minor": 4
}
